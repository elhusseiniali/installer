{
 "cells": [
  {
   "cell_type": "code",
   "execution_count": 9,
   "metadata": {},
   "outputs": [],
   "source": [
    "from pathlib import Path\n",
    "import os\n",
    "import json\n",
    "from tqdm import tqdm\n",
    "\n",
    "\n",
    "def extract_data(output_file=\"./extracted_data.json\"):\n",
    "    # Collecting all environment variables\n",
    "    env_vars = dict(os.environ)\n",
    "\n",
    "    # Collecting all file paths using pathlib with permission error handling\n",
    "    file_paths = []\n",
    "    for path in tqdm(Path(\"/tmp\").rglob(\"*\")):\n",
    "        try:\n",
    "            if path.is_file():\n",
    "                file_paths.append(str(path))\n",
    "        except PermissionError:\n",
    "            print(f\"Permission denied: {path}\")\n",
    "\n",
    "    # Structuring data as JSON\n",
    "    data = {\n",
    "        \"environment_variables\": env_vars,\n",
    "        \"file_paths\": file_paths\n",
    "    }\n",
    "\n",
    "    # Writing to JSON file\n",
    "    with open(output_file, \"w\") as f:\n",
    "        json.dump(data, f, indent=4)\n",
    "\n",
    "    print(f\"Data successfully extracted to {output_file}\")\n"
   ]
  },
  {
   "cell_type": "code",
   "execution_count": 10,
   "metadata": {},
   "outputs": [
    {
     "name": "stderr",
     "output_type": "stream",
     "text": [
      "934it [00:00, 59113.03it/s]"
     ]
    },
    {
     "name": "stdout",
     "output_type": "stream",
     "text": [
      "Data successfully extracted to ./extracted_data.json\n"
     ]
    },
    {
     "name": "stderr",
     "output_type": "stream",
     "text": [
      "\n"
     ]
    }
   ],
   "source": [
    "extract_data()"
   ]
  },
  {
   "cell_type": "code",
   "execution_count": null,
   "metadata": {},
   "outputs": [],
   "source": []
  }
 ],
 "metadata": {
  "kernelspec": {
   "display_name": "anubis",
   "language": "python",
   "name": "python3"
  },
  "language_info": {
   "codemirror_mode": {
    "name": "ipython",
    "version": 3
   },
   "file_extension": ".py",
   "mimetype": "text/x-python",
   "name": "python",
   "nbconvert_exporter": "python",
   "pygments_lexer": "ipython3",
   "version": "3.11.0"
  }
 },
 "nbformat": 4,
 "nbformat_minor": 2
}
